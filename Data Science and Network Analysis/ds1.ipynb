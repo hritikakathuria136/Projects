{
  "nbformat": 4,
  "nbformat_minor": 0,
  "metadata": {
    "colab": {
      "provenance": []
    },
    "kernelspec": {
      "name": "python3",
      "display_name": "Python 3"
    },
    "language_info": {
      "name": "python"
    }
  },
  "cells": [
    {
      "cell_type": "code",
      "execution_count": 63,
      "metadata": {
        "id": "oo3vHRaWq7BK"
      },
      "outputs": [],
      "source": [
        "import numpy as np\n",
        "import pandas as pd\n"
      ]
    },
    {
      "cell_type": "code",
      "source": [
        "from google.colab import drive\n",
        "drive.mount('/content/drive')"
      ],
      "metadata": {
        "colab": {
          "base_uri": "https://localhost:8080/"
        },
        "id": "0--aynO3VqUH",
        "outputId": "2d02bb8f-ae7d-4096-ab1a-fe39d366b06c"
      },
      "execution_count": 64,
      "outputs": [
        {
          "output_type": "stream",
          "name": "stdout",
          "text": [
            "Drive already mounted at /content/drive; to attempt to forcibly remount, call drive.mount(\"/content/drive\", force_remount=True).\n"
          ]
        }
      ]
    },
    {
      "cell_type": "code",
      "source": [
        "#the code in comments is the r code from the assignment"
      ],
      "metadata": {
        "id": "6HAGMleOe8nA"
      },
      "execution_count": 65,
      "outputs": []
    },
    {
      "cell_type": "code",
      "source": [
        "data = pd.read_csv('/content/drive/MyDrive/curated_gene_disease_associations.tsv', sep='\\t')"
      ],
      "metadata": {
        "id": "769J4ipLrjnJ"
      },
      "execution_count": 66,
      "outputs": []
    },
    {
      "cell_type": "code",
      "source": [
        "data.info()"
      ],
      "metadata": {
        "colab": {
          "base_uri": "https://localhost:8080/"
        },
        "id": "TAqtQUgVsgBd",
        "outputId": "28ddcd0a-01d3-48bc-a110-fa18326a08d7"
      },
      "execution_count": 67,
      "outputs": [
        {
          "output_type": "stream",
          "name": "stdout",
          "text": [
            "<class 'pandas.core.frame.DataFrame'>\n",
            "RangeIndex: 81746 entries, 0 to 81745\n",
            "Data columns (total 16 columns):\n",
            " #   Column               Non-Null Count  Dtype  \n",
            "---  ------               --------------  -----  \n",
            " 0   geneId               81746 non-null  int64  \n",
            " 1   geneSymbol           81746 non-null  object \n",
            " 2   DSI                  81620 non-null  float64\n",
            " 3   DPI                  81598 non-null  float64\n",
            " 4   diseaseId            81746 non-null  object \n",
            " 5   diseaseName          81746 non-null  object \n",
            " 6   diseaseType          81746 non-null  object \n",
            " 7   diseaseClass         75443 non-null  object \n",
            " 8   diseaseSemanticType  81746 non-null  object \n",
            " 9   score                81746 non-null  float64\n",
            " 10  EI                   22862 non-null  float64\n",
            " 11  YearInitial          73123 non-null  float64\n",
            " 12  YearFinal            73123 non-null  float64\n",
            " 13  NofPmids             81746 non-null  int64  \n",
            " 14  NofSnps              81746 non-null  int64  \n",
            " 15  source               81746 non-null  object \n",
            "dtypes: float64(6), int64(3), object(7)\n",
            "memory usage: 10.0+ MB\n"
          ]
        }
      ]
    },
    {
      "cell_type": "code",
      "source": [
        "data.describe()"
      ],
      "metadata": {
        "colab": {
          "base_uri": "https://localhost:8080/",
          "height": 297
        },
        "id": "g_AWkckftTn5",
        "outputId": "de740afa-2ecf-4952-bf1b-8ec4b8097d58"
      },
      "execution_count": 68,
      "outputs": [
        {
          "output_type": "execute_result",
          "data": {
            "text/plain": [
              "             geneId           DSI           DPI         score            EI  \\\n",
              "count  8.174600e+04  81620.000000  81598.000000  81746.000000  22862.000000   \n",
              "mean   6.214032e+05      0.577307      0.569338      0.345747      0.956704   \n",
              "std    7.676491e+06      0.136227      0.226062      0.112264      0.142197   \n",
              "min    1.000000e+00      0.251000      0.034000      0.010000      0.000000   \n",
              "25%    2.638000e+03      0.479000      0.414000      0.300000      1.000000   \n",
              "50%    5.428000e+03      0.572000      0.621000      0.300000      1.000000   \n",
              "75%    1.028000e+04      0.663000      0.759000      0.320000      1.000000   \n",
              "max    1.095801e+08      1.000000      0.966000      1.000000      1.000000   \n",
              "\n",
              "        YearInitial     YearFinal      NofPmids       NofSnps  \n",
              "count  73123.000000  73123.000000  81746.000000  81746.000000  \n",
              "mean    2006.373179   2010.641194      1.377853      0.982751  \n",
              "std        7.937566      5.954987      2.594623     14.596577  \n",
              "min     1916.000000   1952.000000      0.000000      0.000000  \n",
              "25%     2003.000000   2007.000000      1.000000      0.000000  \n",
              "50%     2008.000000   2011.000000      1.000000      0.000000  \n",
              "75%     2012.000000   2015.000000      1.000000      0.000000  \n",
              "max     2018.000000   2018.000000    124.000000   2343.000000  "
            ],
            "text/html": [
              "\n",
              "  <div id=\"df-cca2b011-ccc8-48cc-9988-1f3019a03438\">\n",
              "    <div class=\"colab-df-container\">\n",
              "      <div>\n",
              "<style scoped>\n",
              "    .dataframe tbody tr th:only-of-type {\n",
              "        vertical-align: middle;\n",
              "    }\n",
              "\n",
              "    .dataframe tbody tr th {\n",
              "        vertical-align: top;\n",
              "    }\n",
              "\n",
              "    .dataframe thead th {\n",
              "        text-align: right;\n",
              "    }\n",
              "</style>\n",
              "<table border=\"1\" class=\"dataframe\">\n",
              "  <thead>\n",
              "    <tr style=\"text-align: right;\">\n",
              "      <th></th>\n",
              "      <th>geneId</th>\n",
              "      <th>DSI</th>\n",
              "      <th>DPI</th>\n",
              "      <th>score</th>\n",
              "      <th>EI</th>\n",
              "      <th>YearInitial</th>\n",
              "      <th>YearFinal</th>\n",
              "      <th>NofPmids</th>\n",
              "      <th>NofSnps</th>\n",
              "    </tr>\n",
              "  </thead>\n",
              "  <tbody>\n",
              "    <tr>\n",
              "      <th>count</th>\n",
              "      <td>8.174600e+04</td>\n",
              "      <td>81620.000000</td>\n",
              "      <td>81598.000000</td>\n",
              "      <td>81746.000000</td>\n",
              "      <td>22862.000000</td>\n",
              "      <td>73123.000000</td>\n",
              "      <td>73123.000000</td>\n",
              "      <td>81746.000000</td>\n",
              "      <td>81746.000000</td>\n",
              "    </tr>\n",
              "    <tr>\n",
              "      <th>mean</th>\n",
              "      <td>6.214032e+05</td>\n",
              "      <td>0.577307</td>\n",
              "      <td>0.569338</td>\n",
              "      <td>0.345747</td>\n",
              "      <td>0.956704</td>\n",
              "      <td>2006.373179</td>\n",
              "      <td>2010.641194</td>\n",
              "      <td>1.377853</td>\n",
              "      <td>0.982751</td>\n",
              "    </tr>\n",
              "    <tr>\n",
              "      <th>std</th>\n",
              "      <td>7.676491e+06</td>\n",
              "      <td>0.136227</td>\n",
              "      <td>0.226062</td>\n",
              "      <td>0.112264</td>\n",
              "      <td>0.142197</td>\n",
              "      <td>7.937566</td>\n",
              "      <td>5.954987</td>\n",
              "      <td>2.594623</td>\n",
              "      <td>14.596577</td>\n",
              "    </tr>\n",
              "    <tr>\n",
              "      <th>min</th>\n",
              "      <td>1.000000e+00</td>\n",
              "      <td>0.251000</td>\n",
              "      <td>0.034000</td>\n",
              "      <td>0.010000</td>\n",
              "      <td>0.000000</td>\n",
              "      <td>1916.000000</td>\n",
              "      <td>1952.000000</td>\n",
              "      <td>0.000000</td>\n",
              "      <td>0.000000</td>\n",
              "    </tr>\n",
              "    <tr>\n",
              "      <th>25%</th>\n",
              "      <td>2.638000e+03</td>\n",
              "      <td>0.479000</td>\n",
              "      <td>0.414000</td>\n",
              "      <td>0.300000</td>\n",
              "      <td>1.000000</td>\n",
              "      <td>2003.000000</td>\n",
              "      <td>2007.000000</td>\n",
              "      <td>1.000000</td>\n",
              "      <td>0.000000</td>\n",
              "    </tr>\n",
              "    <tr>\n",
              "      <th>50%</th>\n",
              "      <td>5.428000e+03</td>\n",
              "      <td>0.572000</td>\n",
              "      <td>0.621000</td>\n",
              "      <td>0.300000</td>\n",
              "      <td>1.000000</td>\n",
              "      <td>2008.000000</td>\n",
              "      <td>2011.000000</td>\n",
              "      <td>1.000000</td>\n",
              "      <td>0.000000</td>\n",
              "    </tr>\n",
              "    <tr>\n",
              "      <th>75%</th>\n",
              "      <td>1.028000e+04</td>\n",
              "      <td>0.663000</td>\n",
              "      <td>0.759000</td>\n",
              "      <td>0.320000</td>\n",
              "      <td>1.000000</td>\n",
              "      <td>2012.000000</td>\n",
              "      <td>2015.000000</td>\n",
              "      <td>1.000000</td>\n",
              "      <td>0.000000</td>\n",
              "    </tr>\n",
              "    <tr>\n",
              "      <th>max</th>\n",
              "      <td>1.095801e+08</td>\n",
              "      <td>1.000000</td>\n",
              "      <td>0.966000</td>\n",
              "      <td>1.000000</td>\n",
              "      <td>1.000000</td>\n",
              "      <td>2018.000000</td>\n",
              "      <td>2018.000000</td>\n",
              "      <td>124.000000</td>\n",
              "      <td>2343.000000</td>\n",
              "    </tr>\n",
              "  </tbody>\n",
              "</table>\n",
              "</div>\n",
              "      <button class=\"colab-df-convert\" onclick=\"convertToInteractive('df-cca2b011-ccc8-48cc-9988-1f3019a03438')\"\n",
              "              title=\"Convert this dataframe to an interactive table.\"\n",
              "              style=\"display:none;\">\n",
              "        \n",
              "  <svg xmlns=\"http://www.w3.org/2000/svg\" height=\"24px\"viewBox=\"0 0 24 24\"\n",
              "       width=\"24px\">\n",
              "    <path d=\"M0 0h24v24H0V0z\" fill=\"none\"/>\n",
              "    <path d=\"M18.56 5.44l.94 2.06.94-2.06 2.06-.94-2.06-.94-.94-2.06-.94 2.06-2.06.94zm-11 1L8.5 8.5l.94-2.06 2.06-.94-2.06-.94L8.5 2.5l-.94 2.06-2.06.94zm10 10l.94 2.06.94-2.06 2.06-.94-2.06-.94-.94-2.06-.94 2.06-2.06.94z\"/><path d=\"M17.41 7.96l-1.37-1.37c-.4-.4-.92-.59-1.43-.59-.52 0-1.04.2-1.43.59L10.3 9.45l-7.72 7.72c-.78.78-.78 2.05 0 2.83L4 21.41c.39.39.9.59 1.41.59.51 0 1.02-.2 1.41-.59l7.78-7.78 2.81-2.81c.8-.78.8-2.07 0-2.86zM5.41 20L4 18.59l7.72-7.72 1.47 1.35L5.41 20z\"/>\n",
              "  </svg>\n",
              "      </button>\n",
              "      \n",
              "  <style>\n",
              "    .colab-df-container {\n",
              "      display:flex;\n",
              "      flex-wrap:wrap;\n",
              "      gap: 12px;\n",
              "    }\n",
              "\n",
              "    .colab-df-convert {\n",
              "      background-color: #E8F0FE;\n",
              "      border: none;\n",
              "      border-radius: 50%;\n",
              "      cursor: pointer;\n",
              "      display: none;\n",
              "      fill: #1967D2;\n",
              "      height: 32px;\n",
              "      padding: 0 0 0 0;\n",
              "      width: 32px;\n",
              "    }\n",
              "\n",
              "    .colab-df-convert:hover {\n",
              "      background-color: #E2EBFA;\n",
              "      box-shadow: 0px 1px 2px rgba(60, 64, 67, 0.3), 0px 1px 3px 1px rgba(60, 64, 67, 0.15);\n",
              "      fill: #174EA6;\n",
              "    }\n",
              "\n",
              "    [theme=dark] .colab-df-convert {\n",
              "      background-color: #3B4455;\n",
              "      fill: #D2E3FC;\n",
              "    }\n",
              "\n",
              "    [theme=dark] .colab-df-convert:hover {\n",
              "      background-color: #434B5C;\n",
              "      box-shadow: 0px 1px 3px 1px rgba(0, 0, 0, 0.15);\n",
              "      filter: drop-shadow(0px 1px 2px rgba(0, 0, 0, 0.3));\n",
              "      fill: #FFFFFF;\n",
              "    }\n",
              "  </style>\n",
              "\n",
              "      <script>\n",
              "        const buttonEl =\n",
              "          document.querySelector('#df-cca2b011-ccc8-48cc-9988-1f3019a03438 button.colab-df-convert');\n",
              "        buttonEl.style.display =\n",
              "          google.colab.kernel.accessAllowed ? 'block' : 'none';\n",
              "\n",
              "        async function convertToInteractive(key) {\n",
              "          const element = document.querySelector('#df-cca2b011-ccc8-48cc-9988-1f3019a03438');\n",
              "          const dataTable =\n",
              "            await google.colab.kernel.invokeFunction('convertToInteractive',\n",
              "                                                     [key], {});\n",
              "          if (!dataTable) return;\n",
              "\n",
              "          const docLinkHtml = 'Like what you see? Visit the ' +\n",
              "            '<a target=\"_blank\" href=https://colab.research.google.com/notebooks/data_table.ipynb>data table notebook</a>'\n",
              "            + ' to learn more about interactive tables.';\n",
              "          element.innerHTML = '';\n",
              "          dataTable['output_type'] = 'display_data';\n",
              "          await google.colab.output.renderOutput(dataTable, element);\n",
              "          const docLink = document.createElement('div');\n",
              "          docLink.innerHTML = docLinkHtml;\n",
              "          element.appendChild(docLink);\n",
              "        }\n",
              "      </script>\n",
              "    </div>\n",
              "  </div>\n",
              "  "
            ]
          },
          "metadata": {},
          "execution_count": 68
        }
      ]
    },
    {
      "cell_type": "code",
      "source": [
        "data.head(10)"
      ],
      "metadata": {
        "colab": {
          "base_uri": "https://localhost:8080/",
          "height": 576
        },
        "id": "nmM_jdQxvcjy",
        "outputId": "4530fb44-4473-45b1-dfc5-5415695ab4b0"
      },
      "execution_count": 69,
      "outputs": [
        {
          "output_type": "execute_result",
          "data": {
            "text/plain": [
              "   geneId geneSymbol    DSI    DPI diseaseId                    diseaseName  \\\n",
              "0       1       A1BG  0.857  0.172  C0019209                   Hepatomegaly   \n",
              "1       1       A1BG  0.857  0.172  C0036341                  Schizophrenia   \n",
              "2       2        A2M  0.564  0.724  C0002395            Alzheimer's Disease   \n",
              "3       2        A2M  0.564  0.724  C0007102       Malignant tumor of colon   \n",
              "4       2        A2M  0.564  0.724  C0009375              Colonic Neoplasms   \n",
              "5       2        A2M  0.564  0.724  C0011265             Presenile dementia   \n",
              "6       2        A2M  0.564  0.724  C0011570              Mental Depression   \n",
              "7       2        A2M  0.564  0.724  C0011581            Depressive disorder   \n",
              "8       2        A2M  0.564  0.724  C0019202  Hepatolenticular Degeneration   \n",
              "9       2        A2M  0.564  0.724  C0022660          Kidney Failure, Acute   \n",
              "\n",
              "  diseaseType     diseaseClass               diseaseSemanticType  score  \\\n",
              "0   phenotype          C06;C23                           Finding   0.30   \n",
              "1     disease              F03  Mental or Behavioral Dysfunction   0.30   \n",
              "2     disease          C10;F03               Disease or Syndrome   0.40   \n",
              "3     disease          C04;C06                Neoplastic Process   0.30   \n",
              "4       group          C04;C06                Neoplastic Process   0.30   \n",
              "5     disease          C10;F03  Mental or Behavioral Dysfunction   0.30   \n",
              "6     disease              F01  Mental or Behavioral Dysfunction   0.31   \n",
              "7     disease              F03  Mental or Behavioral Dysfunction   0.31   \n",
              "8     disease  C06;C10;C16;C18               Disease or Syndrome   0.30   \n",
              "9     disease          C12;C13               Disease or Syndrome   0.30   \n",
              "\n",
              "         EI  YearInitial  YearFinal  NofPmids  NofSnps     source  \n",
              "0       NaN       2017.0     2017.0         1        0  CTD_human  \n",
              "1       NaN       2015.0     2015.0         1        0  CTD_human  \n",
              "2  0.848485       1998.0     2016.0         3        0  CTD_human  \n",
              "3       NaN       2004.0     2004.0         1        0  CTD_human  \n",
              "4       NaN       2004.0     2004.0         1        0  CTD_human  \n",
              "5       NaN       1998.0     2004.0         3        0  CTD_human  \n",
              "6  1.000000       1987.0     2000.0         2        0   PSYGENET  \n",
              "7  1.000000       1987.0     2000.0         2        0   PSYGENET  \n",
              "8       NaN       2013.0     2013.0         1        0  CTD_human  \n",
              "9       NaN       2013.0     2013.0         1        0  CTD_human  "
            ],
            "text/html": [
              "\n",
              "  <div id=\"df-ecf7986a-c30a-43a3-b681-b7c1649e236c\">\n",
              "    <div class=\"colab-df-container\">\n",
              "      <div>\n",
              "<style scoped>\n",
              "    .dataframe tbody tr th:only-of-type {\n",
              "        vertical-align: middle;\n",
              "    }\n",
              "\n",
              "    .dataframe tbody tr th {\n",
              "        vertical-align: top;\n",
              "    }\n",
              "\n",
              "    .dataframe thead th {\n",
              "        text-align: right;\n",
              "    }\n",
              "</style>\n",
              "<table border=\"1\" class=\"dataframe\">\n",
              "  <thead>\n",
              "    <tr style=\"text-align: right;\">\n",
              "      <th></th>\n",
              "      <th>geneId</th>\n",
              "      <th>geneSymbol</th>\n",
              "      <th>DSI</th>\n",
              "      <th>DPI</th>\n",
              "      <th>diseaseId</th>\n",
              "      <th>diseaseName</th>\n",
              "      <th>diseaseType</th>\n",
              "      <th>diseaseClass</th>\n",
              "      <th>diseaseSemanticType</th>\n",
              "      <th>score</th>\n",
              "      <th>EI</th>\n",
              "      <th>YearInitial</th>\n",
              "      <th>YearFinal</th>\n",
              "      <th>NofPmids</th>\n",
              "      <th>NofSnps</th>\n",
              "      <th>source</th>\n",
              "    </tr>\n",
              "  </thead>\n",
              "  <tbody>\n",
              "    <tr>\n",
              "      <th>0</th>\n",
              "      <td>1</td>\n",
              "      <td>A1BG</td>\n",
              "      <td>0.857</td>\n",
              "      <td>0.172</td>\n",
              "      <td>C0019209</td>\n",
              "      <td>Hepatomegaly</td>\n",
              "      <td>phenotype</td>\n",
              "      <td>C06;C23</td>\n",
              "      <td>Finding</td>\n",
              "      <td>0.30</td>\n",
              "      <td>NaN</td>\n",
              "      <td>2017.0</td>\n",
              "      <td>2017.0</td>\n",
              "      <td>1</td>\n",
              "      <td>0</td>\n",
              "      <td>CTD_human</td>\n",
              "    </tr>\n",
              "    <tr>\n",
              "      <th>1</th>\n",
              "      <td>1</td>\n",
              "      <td>A1BG</td>\n",
              "      <td>0.857</td>\n",
              "      <td>0.172</td>\n",
              "      <td>C0036341</td>\n",
              "      <td>Schizophrenia</td>\n",
              "      <td>disease</td>\n",
              "      <td>F03</td>\n",
              "      <td>Mental or Behavioral Dysfunction</td>\n",
              "      <td>0.30</td>\n",
              "      <td>NaN</td>\n",
              "      <td>2015.0</td>\n",
              "      <td>2015.0</td>\n",
              "      <td>1</td>\n",
              "      <td>0</td>\n",
              "      <td>CTD_human</td>\n",
              "    </tr>\n",
              "    <tr>\n",
              "      <th>2</th>\n",
              "      <td>2</td>\n",
              "      <td>A2M</td>\n",
              "      <td>0.564</td>\n",
              "      <td>0.724</td>\n",
              "      <td>C0002395</td>\n",
              "      <td>Alzheimer's Disease</td>\n",
              "      <td>disease</td>\n",
              "      <td>C10;F03</td>\n",
              "      <td>Disease or Syndrome</td>\n",
              "      <td>0.40</td>\n",
              "      <td>0.848485</td>\n",
              "      <td>1998.0</td>\n",
              "      <td>2016.0</td>\n",
              "      <td>3</td>\n",
              "      <td>0</td>\n",
              "      <td>CTD_human</td>\n",
              "    </tr>\n",
              "    <tr>\n",
              "      <th>3</th>\n",
              "      <td>2</td>\n",
              "      <td>A2M</td>\n",
              "      <td>0.564</td>\n",
              "      <td>0.724</td>\n",
              "      <td>C0007102</td>\n",
              "      <td>Malignant tumor of colon</td>\n",
              "      <td>disease</td>\n",
              "      <td>C04;C06</td>\n",
              "      <td>Neoplastic Process</td>\n",
              "      <td>0.30</td>\n",
              "      <td>NaN</td>\n",
              "      <td>2004.0</td>\n",
              "      <td>2004.0</td>\n",
              "      <td>1</td>\n",
              "      <td>0</td>\n",
              "      <td>CTD_human</td>\n",
              "    </tr>\n",
              "    <tr>\n",
              "      <th>4</th>\n",
              "      <td>2</td>\n",
              "      <td>A2M</td>\n",
              "      <td>0.564</td>\n",
              "      <td>0.724</td>\n",
              "      <td>C0009375</td>\n",
              "      <td>Colonic Neoplasms</td>\n",
              "      <td>group</td>\n",
              "      <td>C04;C06</td>\n",
              "      <td>Neoplastic Process</td>\n",
              "      <td>0.30</td>\n",
              "      <td>NaN</td>\n",
              "      <td>2004.0</td>\n",
              "      <td>2004.0</td>\n",
              "      <td>1</td>\n",
              "      <td>0</td>\n",
              "      <td>CTD_human</td>\n",
              "    </tr>\n",
              "    <tr>\n",
              "      <th>5</th>\n",
              "      <td>2</td>\n",
              "      <td>A2M</td>\n",
              "      <td>0.564</td>\n",
              "      <td>0.724</td>\n",
              "      <td>C0011265</td>\n",
              "      <td>Presenile dementia</td>\n",
              "      <td>disease</td>\n",
              "      <td>C10;F03</td>\n",
              "      <td>Mental or Behavioral Dysfunction</td>\n",
              "      <td>0.30</td>\n",
              "      <td>NaN</td>\n",
              "      <td>1998.0</td>\n",
              "      <td>2004.0</td>\n",
              "      <td>3</td>\n",
              "      <td>0</td>\n",
              "      <td>CTD_human</td>\n",
              "    </tr>\n",
              "    <tr>\n",
              "      <th>6</th>\n",
              "      <td>2</td>\n",
              "      <td>A2M</td>\n",
              "      <td>0.564</td>\n",
              "      <td>0.724</td>\n",
              "      <td>C0011570</td>\n",
              "      <td>Mental Depression</td>\n",
              "      <td>disease</td>\n",
              "      <td>F01</td>\n",
              "      <td>Mental or Behavioral Dysfunction</td>\n",
              "      <td>0.31</td>\n",
              "      <td>1.000000</td>\n",
              "      <td>1987.0</td>\n",
              "      <td>2000.0</td>\n",
              "      <td>2</td>\n",
              "      <td>0</td>\n",
              "      <td>PSYGENET</td>\n",
              "    </tr>\n",
              "    <tr>\n",
              "      <th>7</th>\n",
              "      <td>2</td>\n",
              "      <td>A2M</td>\n",
              "      <td>0.564</td>\n",
              "      <td>0.724</td>\n",
              "      <td>C0011581</td>\n",
              "      <td>Depressive disorder</td>\n",
              "      <td>disease</td>\n",
              "      <td>F03</td>\n",
              "      <td>Mental or Behavioral Dysfunction</td>\n",
              "      <td>0.31</td>\n",
              "      <td>1.000000</td>\n",
              "      <td>1987.0</td>\n",
              "      <td>2000.0</td>\n",
              "      <td>2</td>\n",
              "      <td>0</td>\n",
              "      <td>PSYGENET</td>\n",
              "    </tr>\n",
              "    <tr>\n",
              "      <th>8</th>\n",
              "      <td>2</td>\n",
              "      <td>A2M</td>\n",
              "      <td>0.564</td>\n",
              "      <td>0.724</td>\n",
              "      <td>C0019202</td>\n",
              "      <td>Hepatolenticular Degeneration</td>\n",
              "      <td>disease</td>\n",
              "      <td>C06;C10;C16;C18</td>\n",
              "      <td>Disease or Syndrome</td>\n",
              "      <td>0.30</td>\n",
              "      <td>NaN</td>\n",
              "      <td>2013.0</td>\n",
              "      <td>2013.0</td>\n",
              "      <td>1</td>\n",
              "      <td>0</td>\n",
              "      <td>CTD_human</td>\n",
              "    </tr>\n",
              "    <tr>\n",
              "      <th>9</th>\n",
              "      <td>2</td>\n",
              "      <td>A2M</td>\n",
              "      <td>0.564</td>\n",
              "      <td>0.724</td>\n",
              "      <td>C0022660</td>\n",
              "      <td>Kidney Failure, Acute</td>\n",
              "      <td>disease</td>\n",
              "      <td>C12;C13</td>\n",
              "      <td>Disease or Syndrome</td>\n",
              "      <td>0.30</td>\n",
              "      <td>NaN</td>\n",
              "      <td>2013.0</td>\n",
              "      <td>2013.0</td>\n",
              "      <td>1</td>\n",
              "      <td>0</td>\n",
              "      <td>CTD_human</td>\n",
              "    </tr>\n",
              "  </tbody>\n",
              "</table>\n",
              "</div>\n",
              "      <button class=\"colab-df-convert\" onclick=\"convertToInteractive('df-ecf7986a-c30a-43a3-b681-b7c1649e236c')\"\n",
              "              title=\"Convert this dataframe to an interactive table.\"\n",
              "              style=\"display:none;\">\n",
              "        \n",
              "  <svg xmlns=\"http://www.w3.org/2000/svg\" height=\"24px\"viewBox=\"0 0 24 24\"\n",
              "       width=\"24px\">\n",
              "    <path d=\"M0 0h24v24H0V0z\" fill=\"none\"/>\n",
              "    <path d=\"M18.56 5.44l.94 2.06.94-2.06 2.06-.94-2.06-.94-.94-2.06-.94 2.06-2.06.94zm-11 1L8.5 8.5l.94-2.06 2.06-.94-2.06-.94L8.5 2.5l-.94 2.06-2.06.94zm10 10l.94 2.06.94-2.06 2.06-.94-2.06-.94-.94-2.06-.94 2.06-2.06.94z\"/><path d=\"M17.41 7.96l-1.37-1.37c-.4-.4-.92-.59-1.43-.59-.52 0-1.04.2-1.43.59L10.3 9.45l-7.72 7.72c-.78.78-.78 2.05 0 2.83L4 21.41c.39.39.9.59 1.41.59.51 0 1.02-.2 1.41-.59l7.78-7.78 2.81-2.81c.8-.78.8-2.07 0-2.86zM5.41 20L4 18.59l7.72-7.72 1.47 1.35L5.41 20z\"/>\n",
              "  </svg>\n",
              "      </button>\n",
              "      \n",
              "  <style>\n",
              "    .colab-df-container {\n",
              "      display:flex;\n",
              "      flex-wrap:wrap;\n",
              "      gap: 12px;\n",
              "    }\n",
              "\n",
              "    .colab-df-convert {\n",
              "      background-color: #E8F0FE;\n",
              "      border: none;\n",
              "      border-radius: 50%;\n",
              "      cursor: pointer;\n",
              "      display: none;\n",
              "      fill: #1967D2;\n",
              "      height: 32px;\n",
              "      padding: 0 0 0 0;\n",
              "      width: 32px;\n",
              "    }\n",
              "\n",
              "    .colab-df-convert:hover {\n",
              "      background-color: #E2EBFA;\n",
              "      box-shadow: 0px 1px 2px rgba(60, 64, 67, 0.3), 0px 1px 3px 1px rgba(60, 64, 67, 0.15);\n",
              "      fill: #174EA6;\n",
              "    }\n",
              "\n",
              "    [theme=dark] .colab-df-convert {\n",
              "      background-color: #3B4455;\n",
              "      fill: #D2E3FC;\n",
              "    }\n",
              "\n",
              "    [theme=dark] .colab-df-convert:hover {\n",
              "      background-color: #434B5C;\n",
              "      box-shadow: 0px 1px 3px 1px rgba(0, 0, 0, 0.15);\n",
              "      filter: drop-shadow(0px 1px 2px rgba(0, 0, 0, 0.3));\n",
              "      fill: #FFFFFF;\n",
              "    }\n",
              "  </style>\n",
              "\n",
              "      <script>\n",
              "        const buttonEl =\n",
              "          document.querySelector('#df-ecf7986a-c30a-43a3-b681-b7c1649e236c button.colab-df-convert');\n",
              "        buttonEl.style.display =\n",
              "          google.colab.kernel.accessAllowed ? 'block' : 'none';\n",
              "\n",
              "        async function convertToInteractive(key) {\n",
              "          const element = document.querySelector('#df-ecf7986a-c30a-43a3-b681-b7c1649e236c');\n",
              "          const dataTable =\n",
              "            await google.colab.kernel.invokeFunction('convertToInteractive',\n",
              "                                                     [key], {});\n",
              "          if (!dataTable) return;\n",
              "\n",
              "          const docLinkHtml = 'Like what you see? Visit the ' +\n",
              "            '<a target=\"_blank\" href=https://colab.research.google.com/notebooks/data_table.ipynb>data table notebook</a>'\n",
              "            + ' to learn more about interactive tables.';\n",
              "          element.innerHTML = '';\n",
              "          dataTable['output_type'] = 'display_data';\n",
              "          await google.colab.output.renderOutput(dataTable, element);\n",
              "          const docLink = document.createElement('div');\n",
              "          docLink.innerHTML = docLinkHtml;\n",
              "          element.appendChild(docLink);\n",
              "        }\n",
              "      </script>\n",
              "    </div>\n",
              "  </div>\n",
              "  "
            ]
          },
          "metadata": {},
          "execution_count": 69
        }
      ]
    },
    {
      "cell_type": "code",
      "source": [
        "import seaborn as sns\n"
      ],
      "metadata": {
        "id": "9OdS_kR4tVce"
      },
      "execution_count": 70,
      "outputs": []
    },
    {
      "cell_type": "code",
      "source": [
        "# hist(df$YearInitial, col='gray', xlab='Initial year', breaks = 100)\n",
        "sns.histplot(data = data, x = 'YearInitial', bins = 100, color = 'gray')"
      ],
      "metadata": {
        "colab": {
          "base_uri": "https://localhost:8080/",
          "height": 296
        },
        "id": "axpediRiWAE3",
        "outputId": "8f3c2993-648f-443a-f798-c93cc57e4d88"
      },
      "execution_count": 71,
      "outputs": [
        {
          "output_type": "execute_result",
          "data": {
            "text/plain": [
              "<matplotlib.axes._subplots.AxesSubplot at 0x7f1aa318e550>"
            ]
          },
          "metadata": {},
          "execution_count": 71
        },
        {
          "output_type": "display_data",
          "data": {
            "text/plain": [
              "<Figure size 432x288 with 1 Axes>"
            ],
            "image/png": "[encoded data removed]"
          },
          "metadata": {
            "needs_background": "light"
          }
        }
      ]
    },
    {
      "cell_type": "code",
      "source": [
        "tb = pd.DataFrame(data['YearInitial'].value_counts())\n",
        "# tb <- table(df$YearInitial)\n",
        "# tb = sorted(tb.index)"
      ],
      "metadata": {
        "id": "N8PUosSLXYzr"
      },
      "execution_count": 72,
      "outputs": []
    },
    {
      "cell_type": "code",
      "source": [
        "tb.sort_index(inplace = True)\n",
        "tb.dropna(inplace = True)"
      ],
      "metadata": {
        "id": "B75VSJkddgon"
      },
      "execution_count": 73,
      "outputs": []
    },
    {
      "cell_type": "code",
      "source": [
        "# x = tb.index().tolist()\n",
        "# list = list(tb['YearInitial']) \n",
        "x = tb.index.values.tolist() "
      ],
      "metadata": {
        "id": "abvssz01ayR6"
      },
      "execution_count": 74,
      "outputs": []
    },
    {
      "cell_type": "code",
      "source": [
        "cumsum = tb['YearInitial'].cumsum()\n",
        "\n",
        "# althernative method before sorting\n",
        "# data1 = data.copy()\n",
        "# data1.groupby(['YearInitial'])['geneId'].count().reset_index()\n",
        "# groupby(['month'])['tests_per_case'].max().reset_index()"
      ],
      "metadata": {
        "id": "poD4KsgLYBAQ"
      },
      "execution_count": 75,
      "outputs": []
    },
    {
      "cell_type": "code",
      "source": [
        "cumsum"
      ],
      "metadata": {
        "colab": {
          "base_uri": "https://localhost:8080/"
        },
        "id": "Ii1UhPFEYBwu",
        "outputId": "ecf2d6f4-21e0-42ac-f517-d4537e7c9b48"
      },
      "execution_count": 76,
      "outputs": [
        {
          "output_type": "execute_result",
          "data": {
            "text/plain": [
              "1916.0        1\n",
              "1924.0        2\n",
              "1933.0        3\n",
              "1948.0        5\n",
              "1949.0        8\n",
              "          ...  \n",
              "2014.0    63233\n",
              "2015.0    67164\n",
              "2016.0    69763\n",
              "2017.0    72686\n",
              "2018.0    73123\n",
              "Name: YearInitial, Length: 72, dtype: int64"
            ]
          },
          "metadata": {},
          "execution_count": 76
        }
      ]
    },
    {
      "cell_type": "code",
      "source": [
        "# plot(x,y, pch=19, type='l', xlab='Year', ylab='Total number of associations', lwd=5)\n",
        "sns.lineplot(data = cumsum)"
      ],
      "metadata": {
        "colab": {
          "base_uri": "https://localhost:8080/",
          "height": 282
        },
        "id": "3mzw497vYBuL",
        "outputId": "0e55f8fa-9dac-4189-c6a9-18c0c6961419"
      },
      "execution_count": 77,
      "outputs": [
        {
          "output_type": "execute_result",
          "data": {
            "text/plain": [
              "<matplotlib.axes._subplots.AxesSubplot at 0x7f1aa2ccd640>"
            ]
          },
          "metadata": {},
          "execution_count": 77
        },
        {
          "output_type": "display_data",
          "data": {
            "text/plain": [
              "<Figure size 432x288 with 1 Axes>"
            ],
            "image/png": "[encoded data removed]"
          },
          "metadata": {
            "needs_background": "light"
          }
        }
      ]
    },
    {
      "cell_type": "code",
      "source": [
        "# plot(x,y, log='y', pch=19, type='l', xlab='Year', ylab='Total number of associations', lwd=5)\n",
        "\n",
        "q = sns.lineplot(data = cumsum,x = cumsum.index, y = cumsum.values)\n",
        "q.set(yscale=\"log\")\n",
        "\n",
        "q.set(xlabel='Year', ylabel='Total number of associations')\n",
        "# q.set_yscale(\"log\")"
      ],
      "metadata": {
        "colab": {
          "base_uri": "https://localhost:8080/",
          "height": 298
        },
        "id": "Yi_KMLJVYBrR",
        "outputId": "44730cec-710a-44c7-ab1c-fc21f1c5ef3c"
      },
      "execution_count": 78,
      "outputs": [
        {
          "output_type": "execute_result",
          "data": {
            "text/plain": [
              "[Text(0, 0.5, 'Total number of associations'), Text(0.5, 0, 'Year')]"
            ]
          },
          "metadata": {},
          "execution_count": 78
        },
        {
          "output_type": "display_data",
          "data": {
            "text/plain": [
              "<Figure size 432x288 with 1 Axes>"
            ],
            "image/png": "[encoded data removed]"
          },
          "metadata": {
            "needs_background": "light"
          }
        }
      ]
    },
    {
      "cell_type": "code",
      "source": [
        "#another method \n",
        "q = sns.lineplot(data = cumsum,x = cumsum.index, y = np.log(cumsum.values), color = 'black')"
      ],
      "metadata": {
        "colab": {
          "base_uri": "https://localhost:8080/",
          "height": 265
        },
        "id": "S3Z45YC6YBoF",
        "outputId": "20d26d41-bd5e-4b42-a56b-893d93a9ac49"
      },
      "execution_count": 84,
      "outputs": [
        {
          "output_type": "display_data",
          "data": {
            "text/plain": [
              "<Figure size 432x288 with 1 Axes>"
            ],
            "image/png": "[encoded data removed]"
          },
          "metadata": {
            "needs_background": "light"
          }
        }
      ]
    },
    {
      "cell_type": "code",
      "source": [
        "# logy <- log(y)/log(2)\n",
        "\n",
        "# # we don't want to fit before 1945 \n",
        "# inds <- which(x>1945) \n",
        "# # the lm function can be understood by looking at the manual through ?lm\n",
        "\n",
        "import math\n",
        "y = np.log(cumsum.values)\n",
        "log_y = y/np.log(2)\n",
        "k = sns.lineplot(data = cumsum,x = cumsum.index, y = log_y)\n",
        "k.set(xlabel='Year', ylabel='Cumulative Number (log2)')"
      ],
      "metadata": {
        "colab": {
          "base_uri": "https://localhost:8080/",
          "height": 296
        },
        "id": "l1yhELEAv9vY",
        "outputId": "12019884-8419-4022-ca84-8404ec3bb5ae"
      },
      "execution_count": 80,
      "outputs": [
        {
          "output_type": "execute_result",
          "data": {
            "text/plain": [
              "[Text(0, 0.5, 'Cumulative Number (log2)'), Text(0.5, 0, 'Year')]"
            ]
          },
          "metadata": {},
          "execution_count": 80
        },
        {
          "output_type": "display_data",
          "data": {
            "text/plain": [
              "<Figure size 432x288 with 1 Axes>"
            ],
            "image/png": "[encoded data removed]"
          },
          "metadata": {
            "needs_background": "light"
          }
        }
      ]
    },
    {
      "cell_type": "code",
      "source": [
        "df = pd.DataFrame({'year':cumsum.index, 'cumsum':cumsum.values})\n"
      ],
      "metadata": {
        "id": "qBTEGiCTlR_K"
      },
      "execution_count": 81,
      "outputs": []
    },
    {
      "cell_type": "code",
      "source": [
        "inds = df[df.year>1945]\n",
        "inds.reset_index(inplace = True)"
      ],
      "metadata": {
        "id": "Sy4g1QZHlsGz"
      },
      "execution_count": 131,
      "outputs": []
    },
    {
      "cell_type": "code",
      "source": [
        "inds = inds.drop('index', axis=1)"
      ],
      "metadata": {
        "id": "V_XXusVqxtZR"
      },
      "execution_count": 132,
      "outputs": []
    },
    {
      "cell_type": "code",
      "source": [
        "inds['logy'] = 0"
      ],
      "metadata": {
        "id": "7TW7tIxjopZp"
      },
      "execution_count": 133,
      "outputs": []
    },
    {
      "cell_type": "code",
      "source": [
        "log_y_inds = np.log(inds['cumsum'])\n",
        "x = inds['year'].tolist()"
      ],
      "metadata": {
        "id": "K9szYPgTpftn"
      },
      "execution_count": 134,
      "outputs": []
    },
    {
      "cell_type": "code",
      "source": [
        "\n",
        "# import statsmodels.formula.api as smf\n",
        "import statsmodels.api as sm\n",
        "\n",
        "linmodel = sm.OLS(endog = log_y_inds, exog = x).fit()\n",
        "# abline(fit, lty=2, col='red', lwd=3)"
      ],
      "metadata": {
        "id": "Xr8H__qwqT5c"
      },
      "execution_count": 135,
      "outputs": []
    },
    {
      "cell_type": "code",
      "source": [
        "linmodel.summary()"
      ],
      "metadata": {
        "colab": {
          "base_uri": "https://localhost:8080/",
          "height": 440
        },
        "id": "mcDp3E6xs85S",
        "outputId": "8332f78a-4b2a-4e2d-f6f5-a72279fb7576"
      },
      "execution_count": 136,
      "outputs": [
        {
          "output_type": "execute_result",
          "data": {
            "text/plain": [
              "<class 'statsmodels.iolib.summary.Summary'>\n",
              "\"\"\"\n",
              "                                 OLS Regression Results                                \n",
              "=======================================================================================\n",
              "Dep. Variable:                 cumsum   R-squared (uncentered):                   0.871\n",
              "Model:                            OLS   Adj. R-squared (uncentered):              0.869\n",
              "Method:                 Least Squares   F-statistic:                              458.3\n",
              "Date:                Mon, 09 Jan 2023   Prob (F-statistic):                    6.28e-32\n",
              "Time:                        18:20:22   Log-Likelihood:                         -167.70\n",
              "No. Observations:                  69   AIC:                                      337.4\n",
              "Df Residuals:                      68   BIC:                                      339.6\n",
              "Df Model:                           1                                                  \n",
              "Covariance Type:            nonrobust                                                  \n",
              "==============================================================================\n",
              "                 coef    std err          t      P>|t|      [0.025      0.975]\n",
              "------------------------------------------------------------------------------\n",
              "x1             0.0036      0.000     21.407      0.000       0.003       0.004\n",
              "==============================================================================\n",
              "Omnibus:                       18.843   Durbin-Watson:                   0.003\n",
              "Prob(Omnibus):                  0.000   Jarque-Bera (JB):                4.355\n",
              "Skew:                          -0.155   Prob(JB):                        0.113\n",
              "Kurtosis:                       1.809   Cond. No.                         1.00\n",
              "==============================================================================\n",
              "\n",
              "Notes:\n",
              "[1] R² is computed without centering (uncentered) since the model does not contain a constant.\n",
              "[2] Standard Errors assume that the covariance matrix of the errors is correctly specified.\n",
              "\"\"\""
            ],
            "text/html": [
              "<table class=\"simpletable\">\n",
              "<caption>OLS Regression Results</caption>\n",
              "<tr>\n",
              "  <th>Dep. Variable:</th>         <td>cumsum</td>      <th>  R-squared (uncentered):</th>      <td>   0.871</td>\n",
              "</tr>\n",
              "<tr>\n",
              "  <th>Model:</th>                   <td>OLS</td>       <th>  Adj. R-squared (uncentered):</th> <td>   0.869</td>\n",
              "</tr>\n",
              "<tr>\n",
              "  <th>Method:</th>             <td>Least Squares</td>  <th>  F-statistic:       </th>          <td>   458.3</td>\n",
              "</tr>\n",
              "<tr>\n",
              "  <th>Date:</th>             <td>Mon, 09 Jan 2023</td> <th>  Prob (F-statistic):</th>          <td>6.28e-32</td>\n",
              "</tr>\n",
              "<tr>\n",
              "  <th>Time:</th>                 <td>18:20:22</td>     <th>  Log-Likelihood:    </th>          <td> -167.70</td>\n",
              "</tr>\n",
              "<tr>\n",
              "  <th>No. Observations:</th>      <td>    69</td>      <th>  AIC:               </th>          <td>   337.4</td>\n",
              "</tr>\n",
              "<tr>\n",
              "  <th>Df Residuals:</th>          <td>    68</td>      <th>  BIC:               </th>          <td>   339.6</td>\n",
              "</tr>\n",
              "<tr>\n",
              "  <th>Df Model:</th>              <td>     1</td>      <th>                     </th>              <td> </td>   \n",
              "</tr>\n",
              "<tr>\n",
              "  <th>Covariance Type:</th>      <td>nonrobust</td>    <th>                     </th>              <td> </td>   \n",
              "</tr>\n",
              "</table>\n",
              "<table class=\"simpletable\">\n",
              "<tr>\n",
              "   <td></td>     <th>coef</th>     <th>std err</th>      <th>t</th>      <th>P>|t|</th>  <th>[0.025</th>    <th>0.975]</th>  \n",
              "</tr>\n",
              "<tr>\n",
              "  <th>x1</th> <td>    0.0036</td> <td>    0.000</td> <td>   21.407</td> <td> 0.000</td> <td>    0.003</td> <td>    0.004</td>\n",
              "</tr>\n",
              "</table>\n",
              "<table class=\"simpletable\">\n",
              "<tr>\n",
              "  <th>Omnibus:</th>       <td>18.843</td> <th>  Durbin-Watson:     </th> <td>   0.003</td>\n",
              "</tr>\n",
              "<tr>\n",
              "  <th>Prob(Omnibus):</th> <td> 0.000</td> <th>  Jarque-Bera (JB):  </th> <td>   4.355</td>\n",
              "</tr>\n",
              "<tr>\n",
              "  <th>Skew:</th>          <td>-0.155</td> <th>  Prob(JB):          </th> <td>   0.113</td>\n",
              "</tr>\n",
              "<tr>\n",
              "  <th>Kurtosis:</th>      <td> 1.809</td> <th>  Cond. No.          </th> <td>    1.00</td>\n",
              "</tr>\n",
              "</table><br/><br/>Notes:<br/>[1] R² is computed without centering (uncentered) since the model does not contain a constant.<br/>[2] Standard Errors assume that the covariance matrix of the errors is correctly specified."
            ]
          },
          "metadata": {},
          "execution_count": 136
        }
      ]
    },
    {
      "cell_type": "code",
      "source": [
        "# k = sns.lineplot(data = cumsum,x = cumsum.index, y = log_y)\n",
        "# k.set(xlabel='Year', ylabel='Cumulative Number (log2)')\n",
        "# k.lineplot(x=x,y=y, linestyle='--')\n",
        "# plt.show()"
      ],
      "metadata": {
        "id": "sveC4IYbsOey"
      },
      "execution_count": 137,
      "outputs": []
    },
    {
      "cell_type": "code",
      "source": [
        "k = sns.regplot(x = x, y = log_y_inds)\n",
        "k.set(xlabel='Year', ylabel='Cumulative Number of Appearances')"
      ],
      "metadata": {
        "colab": {
          "base_uri": "https://localhost:8080/",
          "height": 296
        },
        "id": "Wmp1iWVktQRI",
        "outputId": "cd918d1f-59cc-498f-beee-1860a02f24df"
      },
      "execution_count": 138,
      "outputs": [
        {
          "output_type": "execute_result",
          "data": {
            "text/plain": [
              "[Text(0, 0.5, 'Cumulative Number of Appearances'), Text(0.5, 0, 'Year')]"
            ]
          },
          "metadata": {},
          "execution_count": 138
        },
        {
          "output_type": "display_data",
          "data": {
            "text/plain": [
              "<Figure size 432x288 with 1 Axes>"
            ],
            "image/png": "[encoded data removed]"
          },
          "metadata": {
            "needs_background": "light"
          }
        }
      ]
    },
    {
      "cell_type": "code",
      "source": [
        "# fit <- lm(logy[inds]~x[inds])\n",
        "# inds['logy'] = inds[[np.log(inds['cumsum'])]]\n",
        "# import statsmodels.formula.api as smf \n",
        "# reg1 = smf.ols('logy ~  cumsum', data=inds).fit()"
      ],
      "metadata": {
        "id": "60a_e9NVmf3I"
      },
      "execution_count": 139,
      "outputs": []
    },
    {
      "cell_type": "code",
      "source": [
        "a = linmodel.rsquared\n",
        "doubling_rate = 1/a"
      ],
      "metadata": {
        "id": "Y3LQE-L0nanV"
      },
      "execution_count": 140,
      "outputs": []
    },
    {
      "cell_type": "code",
      "source": [
        "doubling_rate"
      ],
      "metadata": {
        "colab": {
          "base_uri": "https://localhost:8080/"
        },
        "id": "_ZRDBaMWvSQE",
        "outputId": "9b630302-a199-42e8-b4b4-05fce37dd7e5"
      },
      "execution_count": 141,
      "outputs": [
        {
          "output_type": "execute_result",
          "data": {
            "text/plain": [
              "1.1483896062427237"
            ]
          },
          "metadata": {},
          "execution_count": 141
        }
      ]
    },
    {
      "cell_type": "code",
      "source": [
        "print('The total number of known associations doubles every {} years!'.format(int(doubling_rate)))"
      ],
      "metadata": {
        "colab": {
          "base_uri": "https://localhost:8080/"
        },
        "id": "BrTgRMqIupxe",
        "outputId": "1c06b063-bdb8-458b-a439-c3905d19216c"
      },
      "execution_count": 142,
      "outputs": [
        {
          "output_type": "stream",
          "name": "stdout",
          "text": [
            "The total number of known associations doubles every 1 years!\n"
          ]
        }
      ]
    },
    {
      "cell_type": "code",
      "source": [
        "from sklearn.linear_model import LinearRegression\n",
        "#we get an error suggesting we should reshape data\n",
        "model = LinearRegression().fit(np.array(x).reshape(-1,1), log_y_inds)"
      ],
      "metadata": {
        "id": "fD8sD3axvNMU"
      },
      "execution_count": 143,
      "outputs": []
    },
    {
      "cell_type": "code",
      "source": [
        "a = model.score(np.array(x).reshape(-1,1), log_y_inds)"
      ],
      "metadata": {
        "id": "pDqhRWp3vle5"
      },
      "execution_count": 144,
      "outputs": []
    },
    {
      "cell_type": "code",
      "source": [
        "doubling_rate = 1/a"
      ],
      "metadata": {
        "id": "c-Iu2wJkwXJ2"
      },
      "execution_count": 145,
      "outputs": []
    },
    {
      "cell_type": "code",
      "source": [
        "print('The total number of known associations doubles every {} years!'.format(int(doubling_rate)))"
      ],
      "metadata": {
        "colab": {
          "base_uri": "https://localhost:8080/"
        },
        "id": "ehcsgOd1wpFE",
        "outputId": "1e21e938-dc96-462c-b100-1ac21bae956b"
      },
      "execution_count": 146,
      "outputs": [
        {
          "output_type": "stream",
          "name": "stdout",
          "text": [
            "The total number of known associations doubles every 1 years!\n"
          ]
        }
      ]
    },
    {
      "cell_type": "code",
      "source": [
        "#I have tried 2 models for linear regression but I can't figure out why i'm getting 1 year yet"
      ],
      "metadata": {
        "id": "Qz9RIjr3wqvJ"
      },
      "execution_count": null,
      "outputs": []
    }
  ]
}